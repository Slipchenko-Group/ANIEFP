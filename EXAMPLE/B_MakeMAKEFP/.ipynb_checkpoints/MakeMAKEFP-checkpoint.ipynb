{
 "cells": [
  {
   "cell_type": "code",
   "execution_count": 1,
   "metadata": {},
   "outputs": [],
   "source": [
    "from mendeleev import H, C, O, N\n",
    "import os"
   ]
  },
  {
   "cell_type": "code",
   "execution_count": 2,
   "metadata": {},
   "outputs": [],
   "source": [
    "def make_efp(path, file, basis, fragname, pol='t', disp='t', xr='t', chtr='f', charge=0, mult=1):\n",
    "    \n",
    "    \"\"\"\n",
    "    Create makefp input file\n",
    "    Input: - path         : path to file\n",
    "           - file         : str of file name including extension, can be xyz or gro\n",
    "                            xyz should be in angstrom, gro in angstrom/10\n",
    "           - basis        : 's' for 6-31G*, 'm' for 6-31+G*, 'l' for 6-311++G(3df2p)\n",
    "           - fragname     : name for fragment \n",
    "           - pol    (opt) : str 't' to add polarization, 'f' to exclude polarization\n",
    "           - disp   (opt) : str analogous to pol but for dispersion\n",
    "           - xr     (opt) : str analogous to pol but for exchange-repulsion\n",
    "           - chtr   (opt) : str analogous to pol but for charge-transfer\n",
    "           - charge (opt) : charge of systme\n",
    "           - mult   (opt) : multiplicity\n",
    "    Output: - GAMESS input file for runtyp=makefp, the name will be fragname+_basis\n",
    "              where basis is s, m or l. Output will be created in path.\n",
    "    Note: in contrl units are set to angs, localization scheme to boys and icut to 11\n",
    "          damp is set to $DAMP IFTTYP(1)=2,0 IFTFIX(1)=1,1 thrsh=500.0 $end\n",
    "          and scf is set to  $scf soscf=.f. dirscf=.t. diis=.t. CONV=1.0d-06  $end\n",
    "    \"\"\"\n",
    "    \n",
    "    if basis == 's':\n",
    "        basis_l1 = '$basis gbasis=n31 ngauss=6 npfunc=0 ndfunc=1 nffunc=0'\n",
    "        basis_l2 = 'diffs=.f. diffsp=.f. $end'\n",
    "    elif basis == 'm':\n",
    "        basis_l1 = '$basis gbasis=n31 ngauss=6 npfunc=0 ndfunc=1 nffunc=0'\n",
    "        basis_l2 = 'diffs=.f. diffsp=.t. $end'\n",
    "    elif basis == 'l':\n",
    "        basis_l1 = '$basis gbasis=n311 ngauss=6 ndfunc=3 nffunc=1'\n",
    "        basis_l2 = 'npfunc=2 diffs=.t. diffsp=.t. $end'\n",
    "        \n",
    "    head = f\"\"\" $contrl units=angs local=boys runtyp=makefp\n",
    " mult={mult} icharg={charge} icut=11 $end\n",
    " $system timlim=99999   mwords=500 $end\n",
    " $scf soscf=.f. dirscf=.t. diis=.t. CONV=1.0d-06  $end\n",
    " {basis_l1}\n",
    " {basis_l2}\n",
    " $DAMP IFTTYP(1)=2,0 IFTFIX(1)=1,1 thrsh=500.0 $end\n",
    " $MAKEFP  POL=.{pol}. DISP=.{disp}. CHTR=.{chtr}.  EXREP=.{xr}. $end\n",
    " $data\n",
    " {fragname}\n",
    " C1\\n\"\"\"\n",
    "    \n",
    "    with open(f'{path}/{file}', 'r') as fl:\n",
    "        if file.split('.')[-1] == 'xyz':\n",
    "            coords = fl.readlines()[2:]\n",
    "        elif file.split('.')[-1] == 'gro':\n",
    "            coords = fl.readlines()[2:-1]\n",
    "            \n",
    "    out = open(f'{path}/{fragname}_{basis}.inp', 'w+')\n",
    "    out.write(head)\n",
    "    for line in coords:\n",
    "        if file.split('.')[-1] == 'xyz':\n",
    "            atom_symb = line.split()[0]\n",
    "            atom_numb = eval(atom_symb).atomic_number\n",
    "            xyz = line.split()[-3:]\n",
    "            out.write(f'{atom_symb} {atom_numb} {xyz}\\n')\n",
    "        elif file.split('.')[-1] == 'gro' and 'SOL' not in line.split()[0]:\n",
    "            atom_symb = line.split()[1][0]\n",
    "            atom_numb = eval(atom_symb).atomic_number\n",
    "            xyz = [float(c)*10 for c in line.split()[-3:]]\n",
    "            xyz = ['{:.2f}'.format(c) for c in xyz]\n",
    "            xyz = ' '.join(xyz)\n",
    "            out.write(f'{atom_symb} {atom_numb} {xyz}\\n')\n",
    "    out.write(' $end')\n",
    "    out.close()"
   ]
  },
  {
   "cell_type": "code",
   "execution_count": 5,
   "metadata": {},
   "outputs": [],
   "source": [
    "# Variable that might need to be change:\n",
    "# path2data - path to folder with gros extracted from QChem MD run (ie last output from smiles2gro)\n",
    "# This reads the gros and for each it creates a GAMESS makefp input file\n",
    "# I have been using 6-31G* for everything, other basis set options are \n",
    "# m' for 6-31+G*, 'l' for 6-311++G(3df2p) [see docstring]\n",
    "\n",
    "path2data = os.getcwd()\n",
    "fls = [fl for fl in os.listdir(path2data) if fl.endswith('.gro')]\n",
    "for file in fls:\n",
    "    fragname = file.split('.')[0].replace('_centered_solv', '')\n",
    "    basis = 's'\n",
    "    make_efp(path2data, file, basis, fragname, pol='t', disp='t', xr='t', chtr='f', charge=0, mult=1)\n",
    "    #basis = 'l'\n",
    "    #make_efp(path2data, file, basis, fragname, pol='t', disp='t', xr='f', chtr='f', charge=0, mult=1)"
   ]
  },
  {
   "cell_type": "code",
   "execution_count": null,
   "metadata": {},
   "outputs": [],
   "source": []
  }
 ],
 "metadata": {
  "kernelspec": {
   "display_name": "Python 3",
   "language": "python",
   "name": "python3"
  },
  "language_info": {
   "codemirror_mode": {
    "name": "ipython",
    "version": 3
   },
   "file_extension": ".py",
   "mimetype": "text/x-python",
   "name": "python",
   "nbconvert_exporter": "python",
   "pygments_lexer": "ipython3",
   "version": "3.8.6"
  }
 },
 "nbformat": 4,
 "nbformat_minor": 4
}
