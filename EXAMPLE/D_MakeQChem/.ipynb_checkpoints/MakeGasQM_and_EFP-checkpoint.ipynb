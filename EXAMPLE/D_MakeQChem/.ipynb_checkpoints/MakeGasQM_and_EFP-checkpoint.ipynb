{
 "cells": [
  {
   "cell_type": "code",
   "execution_count": 8,
   "metadata": {},
   "outputs": [],
   "source": [
    "import os\n",
    "import numpy as np\n",
    "import pandas as pd\n",
    "import itertools\n",
    "import os\n",
    "from datetime import datetime"
   ]
  },
  {
   "cell_type": "code",
   "execution_count": 13,
   "metadata": {},
   "outputs": [],
   "source": [
    "main_path = os.getcwd().replace('src', '')\n",
    "path2gas = f'{main_path}'\n",
    "path2efp = path2gas\n",
    "path2qmefp = f'{main_path}'\n",
    "fls = [fl for fl in os.listdir(path2qmefp) if fl.endswith('.in')]"
   ]
  },
  {
   "cell_type": "code",
   "execution_count": 11,
   "metadata": {},
   "outputs": [],
   "source": [
    "for fl in fls:\n",
    "    with open(f'{path2qmefp}/{fl}', 'r') as qmefp_fl:\n",
    "        qmefp_lns = qmefp_fl.readlines()\n",
    "    efp_idx = qmefp_lns.index('$efp_fragments\\n')\n",
    "    gas_name = fl.replace('qmefp', 'gas')\n",
    "    gas_input = open(f'{path2gas}/{gas_name}', 'w+')\n",
    "    for line in qmefp_lns[0:efp_idx]:\n",
    "        gas_input.write(line)\n",
    "    gas_input.close()"
   ]
  },
  {
   "cell_type": "code",
   "execution_count": 14,
   "metadata": {},
   "outputs": [],
   "source": [
    "for fl in fls:\n",
    "    with open(f'{path2qmefp}/{fl}', 'r') as qmefp_fl:\n",
    "        qmefp_lns = qmefp_fl.readlines()\n",
    "    efp_name = fl.replace('qmefp', 'efp')\n",
    "    efp_input = open(f'{path2efp}/{efp_name}', 'w+')\n",
    "    for line in qmefp_lns:\n",
    "        if 'EFP_FRAGMENTS_ONLY   false' in line:\n",
    "            new_line = line.replace('false', 'true')\n",
    "            efp_input.write(new_line)\n",
    "        else:\n",
    "            efp_input.write(line)\n",
    "    efp_input.close()"
   ]
  },
  {
   "cell_type": "code",
   "execution_count": null,
   "metadata": {},
   "outputs": [],
   "source": []
  }
 ],
 "metadata": {
  "kernelspec": {
   "display_name": "Python 3",
   "language": "python",
   "name": "python3"
  },
  "language_info": {
   "codemirror_mode": {
    "name": "ipython",
    "version": 3
   },
   "file_extension": ".py",
   "mimetype": "text/x-python",
   "name": "python",
   "nbconvert_exporter": "python",
   "pygments_lexer": "ipython3",
   "version": "3.8.6"
  }
 },
 "nbformat": 4,
 "nbformat_minor": 4
}
