{
 "cells": [
  {
   "cell_type": "code",
   "execution_count": 2,
   "metadata": {},
   "outputs": [],
   "source": [
    "import os"
   ]
  },
  {
   "cell_type": "code",
   "execution_count": 3,
   "metadata": {},
   "outputs": [],
   "source": [
    "def make_qchem_input_mixed(fl, path2efp, path2qmefp, path2gro):\n",
    "    \n",
    "    \"\"\"Make qchem input files\n",
    "    Inputs: - fl         : LibEFP output file\n",
    "            - path2efp   : path to LibEFP output files\n",
    "            - path2qmefp : path to folder where QM/EFP inputs will be written \n",
    "            - path2gro   : path to folder with gro files (the ones used to create LibEFP inputs)\n",
    "    \"\"\"\n",
    "    \n",
    "    qmefp_details = [\n",
    "    '   METHOD               wB97X\\n',\n",
    "    '   BASIS                6-31G*\\n',\n",
    "    '   JOBTYPE              sp\\n',\n",
    "    '   EFP_COORD_XYZ        true\\n',\n",
    "    '   EFP_FRAGMENTS_ONLY   false\\n',\n",
    "    '   EFP_DISP_DAMP        1\\n',\n",
    "    '   EFP_QM_DISP          true\\n',\n",
    "    '   EFP_QM_EXREP         true\\n',\n",
    "    '   EFP_DISP_DAMP        2\\n',\n",
    "    '   SYM_IGNORE           true\\n',\n",
    "    ]\n",
    "\n",
    "    molecules_dict = {'ammonia' : 4, 'methane' : 5, 'methanol' : 6, 'water' : 3}\n",
    "    name = fl.split('.')[0]\n",
    "    \n",
    "    if name in molecules_dict.keys():\n",
    "        efp_name = name.split('_')[1]\n",
    "        qm_atoms = molecules_dict[name.split('_')[0]]\n",
    "        solv_atoms = molecules_dict[name.split('_')[1]]\n",
    "    else:\n",
    "        mobley_name = 'mobley_'+name.split('_')[1]+'.gro'\n",
    "        other_name = name.split('_')[0] + '_centered_solv_' + name.split('_')[1] + '.gro'\n",
    "        gro_name = mobley_name if 'mobley' in name else other_name\n",
    "        efp_name = name.split('_')[3]\n",
    "        solv_atoms = molecules_dict[efp_name]\n",
    "        with open(f'{path2gro}/{gro_name}') as gro:\n",
    "            gro_lns = gro.readlines()\n",
    "        qm_atoms = len([ln for ln in gro_lns if '1MOL' in ln or '1UNK' in ln])\n",
    "\n",
    "    with open(f'{path2efp}/{fl}', 'r') as ef:\n",
    "        ef_lns = ef.readlines()\n",
    "    if 'JOB COMPLETED SUCCESSFULLY' in ef_lns[-3]:\n",
    "        geo_iidx = ef_lns.index('    GEOMETRY (ANGSTROMS)\\n')+2\n",
    "        geo_fidx = ef_lns.index('    ENERGY COMPONENTS (ATOMIC UNITS)\\n')-2\n",
    "        qm_coords = ef_lns[geo_iidx:geo_iidx+qm_atoms]\n",
    "        efp_coords = ef_lns[geo_iidx+qm_atoms:geo_fidx]\n",
    "        len_efp = list(range(0, len(efp_coords)))\n",
    "        efp_idx = len_efp[::solv_atoms]+len_efp[1::solv_atoms]+len_efp[2::solv_atoms]\n",
    "        efp_idx.sort()\n",
    "        efp_coords = [efp_coords[c] for c in efp_idx]\n",
    "        qmefp_input = open(f'{path2qmefp}/{name}_qmefp.in', 'w+')\n",
    "        qmefp_input.write('$molecule\\n   0 1\\n')\n",
    "        for line in qm_coords:\n",
    "            atom = line.split()[0][3]\n",
    "            xyz = line[6:]\n",
    "            qmefp_input.write(f'   {atom} {xyz}')\n",
    "        qmefp_input.write('$end\\n\\n$rem\\n')\n",
    "        for line in qmefp_details:\n",
    "            qmefp_input.write(line)\n",
    "        qmefp_input.write('$end\\n\\n$efp_fragments\\n')\n",
    "        qmefp_input.write(f'{efp_name}\\n')\n",
    "        for line in efp_coords[0:-1]:\n",
    "            if line[0:3] == 'A03':\n",
    "                qmefp_input.write(f'   {line}')\n",
    "                qmefp_input.write(f'{efp_name}\\n')\n",
    "            else:\n",
    "                qmefp_input.write(f'   {line}')\n",
    "        qmefp_input.write(f'   {efp_coords[-1]}')\n",
    "        qmefp_input.write('$end\\n\\n')\n",
    "        qmefp_input.close()\n",
    "\n",
    "    return('done!')"
   ]
  },
  {
   "cell_type": "code",
   "execution_count": 4,
   "metadata": {},
   "outputs": [],
   "source": [
    "main_path = os.getcwd().replace('D_MakeQChem', '')\n",
    "path2efp = f'{main_path}/C_MakeLibEFP'\n",
    "path2qmefp = os.getcwd()\n",
    "path2gro = path2efp\n",
    "fls = [fl for fl in os.listdir(path2efp) if fl.endswith('.out') and 'slurm' not in fl]\n",
    "for fl in fls:\n",
    "    make_qchem_input_mixed(fl, path2efp, path2qmefp, path2gro)"
   ]
  },
  {
   "cell_type": "code",
   "execution_count": null,
   "metadata": {},
   "outputs": [],
   "source": []
  }
 ],
 "metadata": {
  "kernelspec": {
   "display_name": "Python 3",
   "language": "python",
   "name": "python3"
  },
  "language_info": {
   "codemirror_mode": {
    "name": "ipython",
    "version": 3
   },
   "file_extension": ".py",
   "mimetype": "text/x-python",
   "name": "python",
   "nbconvert_exporter": "python",
   "pygments_lexer": "ipython3",
   "version": "3.8.6"
  }
 },
 "nbformat": 4,
 "nbformat_minor": 4
}
