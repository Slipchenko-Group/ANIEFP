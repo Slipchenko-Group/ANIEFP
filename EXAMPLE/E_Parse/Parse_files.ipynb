{
 "cells": [
  {
   "cell_type": "code",
   "execution_count": 1,
   "metadata": {},
   "outputs": [],
   "source": [
    "import os\n",
    "import numpy as np\n",
    "import pandas as pd\n",
    "import re"
   ]
  },
  {
   "cell_type": "code",
   "execution_count": 2,
   "metadata": {},
   "outputs": [],
   "source": [
    "atomic_numbers_dict = {'H' : 1, 'C' : 6, 'N' : 7, 'O' : 8}\n",
    "n_atoms_dict = {'Ammonia' : 4, 'Methane' : 5, 'Methanol' : 6, 'Water' : 3, 'Mobley' : 0}"
   ]
  },
  {
   "cell_type": "code",
   "execution_count": 8,
   "metadata": {},
   "outputs": [],
   "source": [
    "# These variables might need to be changed\n",
    "main_path = os.getcwd().replace('/E_Parse','')\n",
    "elecpot_path = f'{main_path}/C_MakeLibEFP'\n",
    "qmefp_path = f'{main_path}/D_MakeQChem'\n",
    "gas_path = f'{main_path}/D_MakeQChem'\n",
    "efp_path = f'{main_path}/D_MakeQChem'\n",
    "gro_path = f'{main_path}/C_MakeLibEFP'"
   ]
  },
  {
   "cell_type": "code",
   "execution_count": 4,
   "metadata": {},
   "outputs": [],
   "source": [
    "# You can organize data in subdirectories and uncomment the for loop below\n",
    "# but whenever you read files, you will have to add {sd}\n",
    "# for example:\n",
    "# [f for f in os.listdir(f'{elecpot_path}') if f.endswith('.out') and 'slurm' not in f] should be\n",
    "# [f for f in os.listdir(f'{elecpot_path}/{sd}') if f.endswith('.out') and 'slurm' not in f]\n",
    "subdirs = ['Ammonia', 'Methane', 'Methanol', 'Water', 'Dimers', 'mixed_min2', 'MobleySolv']"
   ]
  },
  {
   "cell_type": "code",
   "execution_count": 12,
   "metadata": {},
   "outputs": [],
   "source": [
    "libefp_dfs = []\n",
    "#for sd in subdirs:\n",
    "    \n",
    "libefp_outs = [f for f in os.listdir(f'{elecpot_path}') if f.endswith('.out') and 'slurm' not in f]\n",
    "libefp_dict = {'step':[], 'atom' : [], 'atomic_num' : [], 'qm_molecule' : [], 'solv_molecule' : [],\n",
    "               'coord_x' : [], 'coord_y' : [], 'coord_z' : [], 'elec_pot' : [], 'mol_id' : [], 'atom_id' : []}\n",
    "step = 0\n",
    "for lo in libefp_outs:\n",
    "    step += 1\n",
    "    condition = True\n",
    "    qm_molecule = lo.split('_')[0]\n",
    "    solv_molecule = qm_molecule\n",
    "    if qm_molecule in n_atoms_dict.keys():\n",
    "        qm_atoms = n_atoms_dict[qm_molecule.title()]\n",
    "        if lo.split('_')[1] in n_atoms_dict.keys():\n",
    "            solv_molecule = lo.split('_')[1]\n",
    "    elif 'mobley' in qm_molecule or 'mol' in qm_molecule[0:3]:\n",
    "        mobley_molecule = qm_molecule + '_' + lo.split('_')[1]\n",
    "        other_molecule = qm_molecule + '_centered_solv_' + lo.split('_')[1]\n",
    "        qm_molecule = mobley_molecule if 'mobley' in qm_molecule else other_molecule\n",
    "        solv_molecule = 'Water'\n",
    "        with open(f'{gro_path}/{qm_molecule}.gro') as gro:\n",
    "            gro_lns = gro.readlines()[2:]\n",
    "        qm_gro_lns = [ln for ln in gro_lns if '1MOL' in ln or '1UNK' in ln]\n",
    "        qm_atoms = len(qm_gro_lns)\n",
    "        for atom in qm_gro_lns:\n",
    "            qm_atom_symbol = re.sub(r'\\d', '', atom.split()[1])\n",
    "            if qm_atom_symbol not in ['H', 'C', 'N', 'O']:\n",
    "                condition = False\n",
    "\n",
    "    with open(f'{elecpot_path}/{lo}', 'r') as fl:\n",
    "        epot_lns = fl.readlines()\n",
    "\n",
    "    if epot_lns[-3] == 'ELECTROSTATIC POTENTIAL JOB COMPLETED SUCCESSFULLY\\n' and condition == True:\n",
    "        geo_idx = epot_lns.index('    GEOMETRY (ANGSTROMS)\\n')\n",
    "        frag1_coords = epot_lns[geo_idx+2:geo_idx+2+qm_atoms]\n",
    "        epot_idx = epot_lns.index('COORDINATES IN ANGSTROMS, ELECTROSTATIC POTENTIAL IN ATOMIC UNITS\\n')\n",
    "        frag1_atoms = epot_lns[epot_idx+4:epot_idx+4+qm_atoms]\n",
    "        frag1_atoms = [a.split()[0][3] for a in frag1_atoms]\n",
    "        frag1_pot = epot_lns[epot_idx+4:epot_idx+4+qm_atoms]\n",
    "        frag1_pot = [float(a.split()[-1]) for a in frag1_pot]\n",
    "        for n in range(qm_atoms):\n",
    "            libefp_dict['step'].append(step)\n",
    "            libefp_dict['atom'].append(frag1_atoms[n])\n",
    "            libefp_dict['atomic_num'].append(atomic_numbers_dict[frag1_atoms[n]])\n",
    "            libefp_dict['qm_molecule'].append(qm_molecule)\n",
    "            libefp_dict['solv_molecule'].append(solv_molecule)\n",
    "            libefp_dict['coord_x'].append(float(frag1_coords[n].split()[1]))\n",
    "            libefp_dict['coord_y'].append(float(frag1_coords[n].split()[2]))\n",
    "            libefp_dict['coord_z'].append(float(frag1_coords[n].split()[3]))\n",
    "            libefp_dict['elec_pot'].append(frag1_pot[n])\n",
    "            libefp_dict['mol_id'].append(lo.split('.')[0])\n",
    "            libefp_dict['atom_id'].append(lo.split('.')[0]+str(n))\n",
    "\n",
    "libefp_df = pd.DataFrame(libefp_dict)\n",
    "#libefp_dfs.append(libefp_df)"
   ]
  },
  {
   "cell_type": "code",
   "execution_count": 34,
   "metadata": {},
   "outputs": [],
   "source": [
    "qmefp_dfs = []\n",
    "#for sd in subdirs:\n",
    "\n",
    "qmefp_outs = [f for f in os.listdir(f'{qmefp_path}') if f.endswith('.out') and 'slurm' not in f and 'qmefp' in f]\n",
    "qmefp_dict = {'atom' : [], 'qm_molecule' : [], 'solv_molecule' : [],\n",
    "              'system_energy' : [], 'gas_energy' : [], 'efp_energy' : [], 'mol_id' : [], 'atom_id' : []}\n",
    "\n",
    "for qo in qmefp_outs:\n",
    "    condition = True\n",
    "    qm_molecule = qo.split('_')[0]\n",
    "    solv_molecule = qm_molecule\n",
    "    if qm_molecule in n_atoms_dict.keys():\n",
    "        qm_atoms = n_atoms_dict[qm_molecule.title()]\n",
    "        if qo.split('_')[1] in n_atoms_dict.keys():\n",
    "            solv_molecule = qo.split('_')[1]\n",
    "    elif 'mobley' in qm_molecule or 'mol' in qm_molecule[0:3]:\n",
    "        mobley_molecule = qm_molecule + '_' + qo.split('_')[1]\n",
    "        other_molecule = qm_molecule + '_centered_solv_' + qo.split('_')[1]\n",
    "        qm_molecule = mobley_molecule if 'mobley' in qm_molecule else other_molecule\n",
    "        solv_molecule = 'Water'\n",
    "        with open(f'{gro_path}/{qm_molecule}.gro') as gro:\n",
    "            gro_lns = gro.readlines()[2:]\n",
    "        qm_gro_lns = [ln for ln in gro_lns if '1MOL' in ln or '1UNK' in ln]\n",
    "        qm_atoms = len(qm_gro_lns)\n",
    "        for atom in qm_gro_lns:\n",
    "            qm_atom_symbol = re.sub(r'\\d', '', atom.split()[1])\n",
    "            if qm_atom_symbol not in ['H', 'C', 'N', 'O']:\n",
    "                condition = False\n",
    "        \n",
    "    with open(f'{qmefp_path}/{qo}', 'r') as fl:\n",
    "        qmefp_lns = fl.readlines()\n",
    "    efpo = qo.replace('qmefp', 'efp')\n",
    "    with open(f'{efp_path}/{efpo}', 'r') as efp_fl:\n",
    "        efp_lns = efp_fl.readlines()\n",
    "    go = qo.replace('qmefp', 'gas')\n",
    "    with open(f'{gas_path}/{go}', 'r') as gfl:\n",
    "        gas_lns = gfl.readlines()\n",
    "\n",
    "    if qmefp_lns[-5] == '        *  Thank you very much for using Q-Chem.  Have a nice day.  *\\n' and\\\n",
    "       gas_lns[-5] == '        *  Thank you very much for using Q-Chem.  Have a nice day.  *\\n' and\\\n",
    "       efp_lns[-5] == '        *  Thank you very much for using Q-Chem.  Have a nice day.  *\\n' and condition == True:\n",
    "        molecule_idx = qmefp_lns.index('$molecule\\n')\n",
    "        frag_idx = qmefp_lns.index('$efp_fragments\\n')    \n",
    "        efp_molecule_idx = efp_lns.index('$molecule\\n')\n",
    "        efp_frag_idx = efp_lns.index('$efp_fragments\\n')\n",
    "        keys_qmefp = 0\n",
    "        keys_efp = 0\n",
    "        for line in qmefp_lns[molecule_idx:frag_idx]:\n",
    "            if 'SYM_IGNORE' in line and 'true' in line:\n",
    "                keys_qmefp += 1\n",
    "            elif 'EFP_DISP_DAMP' in line and '2' in line:\n",
    "                keys_qmefp += 1\n",
    "        for line in efp_lns[efp_molecule_idx:efp_frag_idx]:\n",
    "            if 'SYM_IGNORE' in line and 'true' in line:\n",
    "                keys_efp += 1\n",
    "            elif 'EFP_DISP_DAMP' in line and '2' in line:\n",
    "                keys_efp += 1\n",
    "        if keys_qmefp == 2 and keys_efp == 2:\n",
    "            energy_idx = qmefp_lns.index('    EFP ENERGY COMPONENTS (ATOMIC UNITS)\\n')\n",
    "            qm_lns = qmefp_lns[molecule_idx+2:molecule_idx+2+qm_atoms]\n",
    "            system_energy = float(qmefp_lns[energy_idx+16].split()[-1])\n",
    "            efp_energy_idx = efp_lns.index('    EFP ENERGY COMPONENTS (ATOMIC UNITS)\\n')\n",
    "            efp_energy = float(efp_lns[efp_energy_idx+8].split()[-1])\n",
    "            #gas_scf_idx = gas_lns.index('  Cycle       Energy         DIIS error\\n')\n",
    "            gas_scf_idx = gas_lns.index('  Cycle       Energy         DIIS Error\\n')\n",
    "            for line in gas_lns[gas_scf_idx:gas_scf_idx+50]:\n",
    "                if 'Total energy in the final basis set =' in line:\n",
    "                    gas_energy = float(line.split()[-1])\n",
    "            for n in range(qm_atoms):\n",
    "                qmefp_dict['atom'].append(qm_lns[n].split()[0])\n",
    "                qmefp_dict['qm_molecule'].append(qm_molecule)\n",
    "                qmefp_dict['solv_molecule'].append(solv_molecule)\n",
    "                qmefp_dict['system_energy'].append(system_energy)\n",
    "                qmefp_dict['gas_energy'].append(gas_energy)\n",
    "                qmefp_dict['efp_energy'].append(efp_energy)\n",
    "                qmefp_dict['mol_id'].append(qo.split('.')[0].replace('_qmefp', ''))\n",
    "                qmefp_dict['atom_id'].append(qo.split('.')[0].replace('_qmefp', '')+str(n))\n",
    "                \n",
    "qmefp_df = pd.DataFrame(qmefp_dict)\n",
    "#qmefp_dfs.append(qmefp_df)"
   ]
  },
  {
   "cell_type": "code",
   "execution_count": 36,
   "metadata": {},
   "outputs": [],
   "source": [
    "#libefp_df = pd.concat(libefp_dfs)\n",
    "#qmefp_df = pd.concat(qmefp_dfs)\n",
    "qmefp_df['interaction_energy'] = qmefp_df['system_energy'] - qmefp_df['gas_energy']\n",
    "qmefp_df['system_energy_w/oEFP'] = qmefp_df['system_energy'] - qmefp_df['efp_energy']\n",
    "qmefp_df['corr_energy'] = qmefp_df['system_energy_w/oEFP'] - qmefp_df['gas_energy']"
   ]
  },
  {
   "cell_type": "code",
   "execution_count": 37,
   "metadata": {},
   "outputs": [],
   "source": [
    "data = libefp_df.merge(qmefp_df, on=['atom', 'qm_molecule', 'solv_molecule', 'mol_id', 'atom_id'], how='inner')"
   ]
  },
  {
   "cell_type": "code",
   "execution_count": 38,
   "metadata": {},
   "outputs": [],
   "source": [
    "path2data = f'{main_path}/E_Parse'\n",
    "data = data.rename(columns={'qm_molecule' : 'molecule'})\n",
    "data.to_csv(f'{path2data}/qmefp_libefp_631Gd.csv', index=False)"
   ]
  },
  {
   "cell_type": "code",
   "execution_count": 39,
   "metadata": {},
   "outputs": [
    {
     "data": {
      "text/plain": [
       "((10, 17), (10, 11), (10, 11))"
      ]
     },
     "execution_count": 39,
     "metadata": {},
     "output_type": "execute_result"
    }
   ],
   "source": [
    "data.shape, libefp_df.shape, qmefp_df.shape"
   ]
  },
  {
   "cell_type": "code",
   "execution_count": null,
   "metadata": {},
   "outputs": [],
   "source": []
  },
  {
   "cell_type": "code",
   "execution_count": null,
   "metadata": {},
   "outputs": [],
   "source": []
  },
  {
   "cell_type": "code",
   "execution_count": null,
   "metadata": {},
   "outputs": [],
   "source": []
  }
 ],
 "metadata": {
  "kernelspec": {
   "display_name": "Python 3",
   "language": "python",
   "name": "python3"
  },
  "language_info": {
   "codemirror_mode": {
    "name": "ipython",
    "version": 3
   },
   "file_extension": ".py",
   "mimetype": "text/x-python",
   "name": "python",
   "nbconvert_exporter": "python",
   "pygments_lexer": "ipython3",
   "version": "3.8.6"
  }
 },
 "nbformat": 4,
 "nbformat_minor": 4
}
